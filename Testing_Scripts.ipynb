{
 "cells": [
  {
   "cell_type": "code",
   "execution_count": 23,
   "id": "3e965933-3196-4d97-81a0-b72d3d47192b",
   "metadata": {},
   "outputs": [],
   "source": [
    "# Define a function to create batches so that when the script appends them into the sql database they are smaller chunks of data\n",
    "def create_batches(dataframe, batch_size):\n",
    "    print(f'Batch size:{batch_size}')\n",
    "    print(f'length: {len(dataframe)}')\n",
    "    for start in range(0, len(dataframe), batch_size):\n",
    "        yield dataframe.iloc[start:start + batch_size]\n",
    "        print(dataframe.iloc[start:start + batch_size])"
   ]
  },
  {
   "cell_type": "code",
   "execution_count": 3,
   "id": "17fd6873-3c7c-4080-aa7b-1e3fd4e07171",
   "metadata": {},
   "outputs": [],
   "source": [
    "import pandas as pd\n",
    "df = pd"
   ]
  },
  {
   "cell_type": "code",
   "execution_count": 11,
   "id": "5dad5d6b-e3a1-47e8-834f-fd17031cd69b",
   "metadata": {},
   "outputs": [],
   "source": [
    "data = {\n",
    "    'Name': ['Alice', 'Bob', 'Charlie','Daniel','George','Felix'],\n",
    "    'Age': ['25', '30', '35','23','24','45'],\n",
    "    'City': ['New York', 'Los Angeles', 'Chicago', 'Chicago', 'Chicago','New York']}"
   ]
  },
  {
   "cell_type": "code",
   "execution_count": 12,
   "id": "e07bc20a-b181-4dff-85cb-ce88dd3cf80f",
   "metadata": {},
   "outputs": [],
   "source": [
    "df = pd.DataFrame(data)"
   ]
  },
  {
   "cell_type": "code",
   "execution_count": 13,
   "id": "82b6fa25-18ce-4bb2-af8b-aecc37c9e9b4",
   "metadata": {},
   "outputs": [
    {
     "name": "stdout",
     "output_type": "stream",
     "text": [
      "      Name Age         City\n",
      "0    Alice  25     New York\n",
      "1      Bob  30  Los Angeles\n",
      "2  Charlie  35      Chicago\n",
      "3   Daniel  23      Chicago\n",
      "4   George  24      Chicago\n",
      "5    Felix  45     New York\n"
     ]
    }
   ],
   "source": [
    "print(df)"
   ]
  },
  {
   "cell_type": "code",
   "execution_count": 24,
   "id": "a2e52b2b-905b-4c05-9cd6-c50200ec9f47",
   "metadata": {},
   "outputs": [
    {
     "name": "stdout",
     "output_type": "stream",
     "text": [
      "Batch size:2\n",
      "length: 6\n",
      "    Name Age         City\n",
      "0  Alice  25     New York\n",
      "1    Bob  30  Los Angeles\n",
      "      Name Age     City\n",
      "2  Charlie  35  Chicago\n",
      "3   Daniel  23  Chicago\n",
      "     Name Age      City\n",
      "4  George  24   Chicago\n",
      "5   Felix  45  New York\n"
     ]
    }
   ],
   "source": [
    "# Specify the desired batch size\n",
    "batch_size = 2  # For example, 100 rows per batch\n",
    "\n",
    "# Create the batches\n",
    "batches = list(create_batches(df, batch_size))"
   ]
  },
  {
   "cell_type": "code",
   "execution_count": 27,
   "id": "ee55e2dc-6baf-4aa4-9739-b67e9f117285",
   "metadata": {},
   "outputs": [
    {
     "name": "stdout",
     "output_type": "stream",
     "text": [
      "   VendorID tpep_pickup_datetime tpep_dropoff_datetime  passenger_count  \\\n",
      "0         1  2021-01-01 00:30:10   2021-01-01 00:36:12              1.0   \n",
      "1         1  2021-01-01 00:51:20   2021-01-01 00:52:19              1.0   \n",
      "2         1  2021-01-01 00:43:30   2021-01-01 01:11:06              1.0   \n",
      "3         1  2021-01-01 00:15:48   2021-01-01 00:31:01              0.0   \n",
      "4         2  2021-01-01 00:31:49   2021-01-01 00:48:21              1.0   \n",
      "\n",
      "   trip_distance  RatecodeID store_and_fwd_flag  PULocationID  DOLocationID  \\\n",
      "0           2.10         1.0                  N           142            43   \n",
      "1           0.20         1.0                  N           238           151   \n",
      "2          14.70         1.0                  N           132           165   \n",
      "3          10.60         1.0                  N           138           132   \n",
      "4           4.94         1.0                  N            68            33   \n",
      "\n",
      "   payment_type  fare_amount  extra  mta_tax  tip_amount  tolls_amount  \\\n",
      "0             2          8.0    3.0      0.5        0.00           0.0   \n",
      "1             2          3.0    0.5      0.5        0.00           0.0   \n",
      "2             1         42.0    0.5      0.5        8.65           0.0   \n",
      "3             1         29.0    0.5      0.5        6.05           0.0   \n",
      "4             1         16.5    0.5      0.5        4.06           0.0   \n",
      "\n",
      "   improvement_surcharge  total_amount  congestion_surcharge  airport_fee  \n",
      "0                    0.3         11.80                   2.5          NaN  \n",
      "1                    0.3          4.30                   0.0          NaN  \n",
      "2                    0.3         51.95                   0.0          NaN  \n",
      "3                    0.3         36.35                   0.0          NaN  \n",
      "4                    0.3         24.36                   2.5          NaN  \n"
     ]
    }
   ],
   "source": [
    "import pandas as pd\n",
    "\n",
    "# URL of the Parquet file\n",
    "url=\"https://d37ci6vzurychx.cloudfront.net/trip-data/yellow_tripdata_2021-01.parquet\"\n",
    "\n",
    "# Reading the Parquet file into a DataFrame\n",
    "df = pd.read_parquet(url, engine='pyarrow')\n",
    "\n",
    "# Displaying the DataFrame\n",
    "print(df.head())\n"
   ]
  },
  {
   "cell_type": "code",
   "execution_count": null,
   "id": "a7bb73a2-8225-4145-9d2c-fdececdea21a",
   "metadata": {},
   "outputs": [],
   "source": []
  }
 ],
 "metadata": {
  "kernelspec": {
   "display_name": "Python 3 (ipykernel)",
   "language": "python",
   "name": "python3"
  },
  "language_info": {
   "codemirror_mode": {
    "name": "ipython",
    "version": 3
   },
   "file_extension": ".py",
   "mimetype": "text/x-python",
   "name": "python",
   "nbconvert_exporter": "python",
   "pygments_lexer": "ipython3",
   "version": "3.10.12"
  }
 },
 "nbformat": 4,
 "nbformat_minor": 5
}
