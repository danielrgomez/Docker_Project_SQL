{
 "cells": [
  {
   "cell_type": "markdown",
   "id": "69d35ebe-be63-412b-8b73-e83993b4ffc9",
   "metadata": {},
   "source": [
    "# Load Time Zone Data"
   ]
  },
  {
   "cell_type": "markdown",
   "id": "0a26a67e-72d4-48c1-aef2-8ed367cbd8b6",
   "metadata": {},
   "source": [
    "#### This Python script automates the process of loading New York zones data from the New York Taxi and Limousine Commission (TLC) website into a PostgreSQL database. The script performs the following steps:\n",
    "\n",
    "##### 1. Download the Data: Uses the !wget command to download the zone data directly from the TLC website.\n",
    "\n",
    "##### 2. Create a DataFrame: Utilizes the pandas library to read the downloaded data into a DataFrame for easy manipulation and analysis.\n",
    "\n",
    "##### 3. Connect to PostgreSQL: Employs the sqlalchemy library to create a connection engine for interacting with a PostgreSQL database.\n",
    "\n",
    "##### 4. Load Data into PostgreSQL: Inserts the DataFrame into a PostgreSQL table, ensuring the data is efficiently stored and accessible for further use."
   ]
  },
  {
   "cell_type": "code",
   "execution_count": 9,
   "id": "39cf8ce5-3fad-4bad-8b2a-979d765c0767",
   "metadata": {},
   "outputs": [],
   "source": [
    "import pandas as pd\n",
    "from sqlalchemy import create_engine"
   ]
  },
  {
   "cell_type": "code",
   "execution_count": 2,
   "id": "c408f405-dafc-487c-b403-459d0cde084b",
   "metadata": {},
   "outputs": [
    {
     "name": "stdout",
     "output_type": "stream",
     "text": [
      "--2025-02-09 10:12:08--  https://d37ci6vzurychx.cloudfront.net/misc/taxi_zone_lookup.csv\n",
      "Resolving d37ci6vzurychx.cloudfront.net (d37ci6vzurychx.cloudfront.net)... 18.165.48.64, 18.165.48.108, 18.165.48.82, ...\n",
      "connected. to d37ci6vzurychx.cloudfront.net (d37ci6vzurychx.cloudfront.net)|18.165.48.64|:443... \n",
      "HTTP request sent, awaiting response... 200 OK\n",
      "Length: 12331 (12K) [text/csv]\n",
      "Saving to: ‘taxi_zone_lookup.csv’\n",
      "\n",
      "taxi_zone_lookup.cs 100%[===================>]  12.04K  --.-KB/s    in 0s      \n",
      "\n",
      "2025-02-09 10:12:08 (136 MB/s) - ‘taxi_zone_lookup.csv’ saved [12331/12331]\n",
      "\n"
     ]
    }
   ],
   "source": [
    "#Getting the taxi zone lookup csv data from the ny taxi website\n",
    "!wget https://d37ci6vzurychx.cloudfront.net/misc/taxi_zone_lookup.csv"
   ]
  },
  {
   "cell_type": "code",
   "execution_count": 13,
   "id": "8e01eda5-60c2-472b-8930-50d25b5a0b04",
   "metadata": {},
   "outputs": [
    {
     "data": {
      "text/html": [
       "<div>\n",
       "<style scoped>\n",
       "    .dataframe tbody tr th:only-of-type {\n",
       "        vertical-align: middle;\n",
       "    }\n",
       "\n",
       "    .dataframe tbody tr th {\n",
       "        vertical-align: top;\n",
       "    }\n",
       "\n",
       "    .dataframe thead th {\n",
       "        text-align: right;\n",
       "    }\n",
       "</style>\n",
       "<table border=\"1\" class=\"dataframe\">\n",
       "  <thead>\n",
       "    <tr style=\"text-align: right;\">\n",
       "      <th></th>\n",
       "      <th>LocationID</th>\n",
       "      <th>Borough</th>\n",
       "      <th>Zone</th>\n",
       "      <th>service_zone</th>\n",
       "    </tr>\n",
       "  </thead>\n",
       "  <tbody>\n",
       "    <tr>\n",
       "      <th>0</th>\n",
       "      <td>1</td>\n",
       "      <td>EWR</td>\n",
       "      <td>Newark Airport</td>\n",
       "      <td>EWR</td>\n",
       "    </tr>\n",
       "    <tr>\n",
       "      <th>1</th>\n",
       "      <td>2</td>\n",
       "      <td>Queens</td>\n",
       "      <td>Jamaica Bay</td>\n",
       "      <td>Boro Zone</td>\n",
       "    </tr>\n",
       "    <tr>\n",
       "      <th>2</th>\n",
       "      <td>3</td>\n",
       "      <td>Bronx</td>\n",
       "      <td>Allerton/Pelham Gardens</td>\n",
       "      <td>Boro Zone</td>\n",
       "    </tr>\n",
       "    <tr>\n",
       "      <th>3</th>\n",
       "      <td>4</td>\n",
       "      <td>Manhattan</td>\n",
       "      <td>Alphabet City</td>\n",
       "      <td>Yellow Zone</td>\n",
       "    </tr>\n",
       "    <tr>\n",
       "      <th>4</th>\n",
       "      <td>5</td>\n",
       "      <td>Staten Island</td>\n",
       "      <td>Arden Heights</td>\n",
       "      <td>Boro Zone</td>\n",
       "    </tr>\n",
       "  </tbody>\n",
       "</table>\n",
       "</div>"
      ],
      "text/plain": [
       "   LocationID        Borough                     Zone service_zone\n",
       "0           1            EWR           Newark Airport          EWR\n",
       "1           2         Queens              Jamaica Bay    Boro Zone\n",
       "2           3          Bronx  Allerton/Pelham Gardens    Boro Zone\n",
       "3           4      Manhattan            Alphabet City  Yellow Zone\n",
       "4           5  Staten Island            Arden Heights    Boro Zone"
      ]
     },
     "execution_count": 13,
     "metadata": {},
     "output_type": "execute_result"
    }
   ],
   "source": [
    "#Read CSV file to pandas dataframe\n",
    "df_zones = pd.read_csv('taxi_zone_lookup.csv')\n",
    "df_zones.head()"
   ]
  },
  {
   "cell_type": "code",
   "execution_count": 10,
   "id": "e9d6c35b-ad48-47e4-ba54-4f78215c7af1",
   "metadata": {},
   "outputs": [],
   "source": [
    "#Create engine using the following parameters to access\n",
    "user = 'root'\n",
    "password = 'root'\n",
    "host = 'localhost'\n",
    "port = '5432'\n",
    "db = 'ny_taxi'\n",
    "table_name = 'taxi_zones'\n",
    "engine = create_engine(f'postgresql://{user}:{password}@{host}:{port}/{db}')"
   ]
  },
  {
   "cell_type": "code",
   "execution_count": 11,
   "id": "6ecb961f-e806-45ad-b6a6-407278c8b32b",
   "metadata": {},
   "outputs": [
    {
     "data": {
      "text/plain": [
       "265"
      ]
     },
     "execution_count": 11,
     "metadata": {},
     "output_type": "execute_result"
    }
   ],
   "source": [
    "#Loads the taxi zones to a table called zones to postgres. If the table exists it replaces with new data.\n",
    "df_zones.to_sql(name='zones',con=engine,if_exists='replace')"
   ]
  }
 ],
 "metadata": {
  "kernelspec": {
   "display_name": "Python 3 (ipykernel)",
   "language": "python",
   "name": "python3"
  },
  "language_info": {
   "codemirror_mode": {
    "name": "ipython",
    "version": 3
   },
   "file_extension": ".py",
   "mimetype": "text/x-python",
   "name": "python",
   "nbconvert_exporter": "python",
   "pygments_lexer": "ipython3",
   "version": "3.10.12"
  }
 },
 "nbformat": 4,
 "nbformat_minor": 5
}
